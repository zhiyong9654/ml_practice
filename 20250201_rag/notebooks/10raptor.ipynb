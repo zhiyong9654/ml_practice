{
 "cells": [
  {
   "cell_type": "markdown",
   "metadata": {},
   "source": [
    "https://github.com/langchain-ai/langchain/blob/master/cookbook/RAPTOR.ipynb\n",
    "\n",
    "I'll attempt to implement everything myself to get a better idea of how to do raptor, in case there's any edge cases i miss. Will reuse the docs they provide though.\n",
    "\n",
    "Questions have different levels of abstractions. Hence, your documents can be fed in an LLM reccursive to build summarizations (which are higher level abstractions) a certain number of times. These LLM generated abstractions can then be saved as docs back into your vectorstore."
   ]
  },
  {
   "cell_type": "markdown",
   "metadata": {},
   "source": [
    "Document loading part has many broken links, update to use other pages"
   ]
  },
  {
   "cell_type": "code",
   "execution_count": 1,
   "metadata": {},
   "outputs": [
    {
     "data": {
      "text/plain": [
       "<function matplotlib.pyplot.show(close=None, block=None)>"
      ]
     },
     "execution_count": 1,
     "metadata": {},
     "output_type": "execute_result"
    },
    {
     "data": {
      "image/png": "[encoded data removed]",
      "text/plain": [
       "<Figure size 1000x600 with 1 Axes>"
      ]
     },
     "metadata": {},
     "output_type": "display_data"
    }
   ],
   "source": [
    "import matplotlib.pyplot as plt\n",
    "import tiktoken\n",
    "from bs4 import BeautifulSoup as Soup\n",
    "from langchain_community.document_loaders.recursive_url_loader import RecursiveUrlLoader\n",
    "\n",
    "\n",
    "def num_tokens_from_string(string: str, encoding_name: str) -> int:\n",
    "    \"\"\"Returns the number of tokens in a text string.\"\"\"\n",
    "    encoding = tiktoken.get_encoding(encoding_name)\n",
    "    num_tokens = len(encoding.encode(string))\n",
    "    return num_tokens\n",
    "\n",
    "\n",
    "# LCEL docs\n",
    "url = \"https://python.langchain.com/docs/expression_language/\"\n",
    "loader = RecursiveUrlLoader(\n",
    "    url=url, max_depth=20, extractor=lambda x: Soup(x, \"html.parser\").text\n",
    ")\n",
    "docs = loader.load()\n",
    "\n",
    "# LCEL w/ PydanticOutputParser (outside the primary LCEL docs)\n",
    "url = \"https://python.langchain.com/docs/how_to/output_parser_structured/\"\n",
    "loader = RecursiveUrlLoader(\n",
    "    url=url, max_depth=3, extractor=lambda x: Soup(x, \"html.parser\").text\n",
    ")\n",
    "docs_pydantic = loader.load()\n",
    "\n",
    "# LCEL w/ Self Query (outside the primary LCEL docs)\n",
    "url = \"https://python.langchain.com/docs/how_to/self_query/\"\n",
    "loader = RecursiveUrlLoader(\n",
    "    url=url, max_depth=3, extractor=lambda x: Soup(x, \"html.parser\").text\n",
    ")\n",
    "docs_sq = loader.load()\n",
    "\n",
    "# \n",
    "url = \"https://en.wikipedia.org/wiki/Attention_(machine_learning)\"\n",
    "loader = RecursiveUrlLoader(\n",
    "    url=url, max_depth=3, extractor=lambda x: Soup(x, \"html.parser\").text\n",
    ")\n",
    "docs_attention = loader.load()\n",
    "\n",
    "url = \"https://en.wikipedia.org/wiki/OpenAI_o1\"\n",
    "loader = RecursiveUrlLoader(\n",
    "    url=url, max_depth=3, extractor=lambda x: Soup(x, \"html.parser\").text\n",
    ")\n",
    "docs_openai = loader.load()\n",
    "\n",
    "url = \"https://www.gutenberg.org/cache/epub/1727/pg1727-images.html\"\n",
    "loader = RecursiveUrlLoader(\n",
    "    url=url, max_depth=3, extractor=lambda x: Soup(x, \"html.parser\").text\n",
    ")\n",
    "docs_odyssey = loader.load()\n",
    "\n",
    "# Doc texts\n",
    "docs.extend([*docs_pydantic, *docs_sq, *docs_attention, *docs_openai, *docs_odyssey])\n",
    "docs_texts = [d.page_content for d in docs]\n",
    "\n",
    "# Calculate the number of tokens for each document\n",
    "counts = [num_tokens_from_string(d, \"cl100k_base\") for d in docs_texts]\n",
    "\n",
    "# Plotting the histogram of token counts\n",
    "plt.figure(figsize=(10, 6))\n",
    "plt.hist(counts, bins=30, color=\"blue\", edgecolor=\"black\", alpha=0.7)\n",
    "plt.title(\"Histogram of Token Counts\")\n",
    "plt.xlabel(\"Token Count\")\n",
    "plt.ylabel(\"Frequency\")\n",
    "plt.grid(axis=\"y\", alpha=0.75)\n",
    "\n",
    "# Display the histogram\n",
    "plt.show"
   ]
  },
  {
   "cell_type": "code",
   "execution_count": 2,
   "metadata": {},
   "outputs": [],
   "source": [
    "concatenated_content = \"\\n\\n\\n --- \\n\\n\\n\".join([d.page_content for d in docs])"
   ]
  },
  {
   "cell_type": "code",
   "execution_count": 3,
   "metadata": {},
   "outputs": [
    {
     "data": {
      "text/plain": [
       "208033"
      ]
     },
     "execution_count": 3,
     "metadata": {},
     "output_type": "execute_result"
    }
   ],
   "source": [
    "num_tokens_from_string(concatenated_content, \"cl100k_base\")"
   ]
  },
  {
   "cell_type": "code",
   "execution_count": 4,
   "metadata": {},
   "outputs": [
    {
     "data": {
      "text/plain": [
       "123"
      ]
     },
     "execution_count": 4,
     "metadata": {},
     "output_type": "execute_result"
    }
   ],
   "source": [
    "# Doc texts split\n",
    "from langchain_text_splitters import RecursiveCharacterTextSplitter\n",
    "\n",
    "chunk_size_tok = 2000\n",
    "text_splitter = RecursiveCharacterTextSplitter.from_tiktoken_encoder(\n",
    "    chunk_size=chunk_size_tok, chunk_overlap=0\n",
    ")\n",
    "texts_split = text_splitter.split_text(concatenated_content)\n",
    "len(texts_split)"
   ]
  },
  {
   "cell_type": "markdown",
   "metadata": {},
   "source": [
    "Raptor's paper suggests the following method of clustering:\n",
    "1. Use UMAP to reduce dimensionality of embedding\n",
    "2. Global cluster using Gaussian mixture model \n",
    "3. Local cluster using Gaussian mixture model\n",
    "\n",
    "Try to do this dev urself"
   ]
  },
  {
   "cell_type": "code",
   "execution_count": 5,
   "metadata": {},
   "outputs": [],
   "source": [
    "from sklearn.mixture import GaussianMixture\n",
    "from sklearn.model_selection import GridSearchCV\n",
    "from langchain_ollama import OllamaEmbeddings\n",
    "from langchain_ollama.chat_models import ChatOllama\n",
    "import numpy as np\n",
    "from langchain_core.output_parsers import StrOutputParser\n",
    "from langchain.prompts import ChatPromptTemplate\n",
    "from langchain.schema.runnable import RunnableLambda\n",
    "import langchain \n",
    "langchain.debug = True "
   ]
  },
  {
   "cell_type": "code",
   "execution_count": 18,
   "metadata": {},
   "outputs": [],
   "source": [
    "def gmm_clustering(X, K):\n",
    "    \"\"\"Given a 2d array, where every row is 1 sample point, run GMM clustering on it repeatedly,\n",
    "    searching for the best cluster size, based on BIC.\n",
    "    params:\n",
    "        X (2d array): size m x n, float.\n",
    "        K (int): maximum cluster size to try\n",
    "\n",
    "    return:\n",
    "        clusters (1d array): size m, containing the array of 0-k values, where k is the optimum cluster size.\n",
    "    \"\"\"\n",
    "    def gmm_bic_score(estimator, X):\n",
    "        \"\"\"Callable to pass to GridSearchCV that will use the BIC score.\"\"\"\n",
    "        # Make it negative since GridSearchCV expects a score to maximize\n",
    "        return -estimator.bic(X)\n",
    "    \n",
    "    param_grid = {\n",
    "        \"n_components\": range(2, K)\n",
    "    }\n",
    "    grid_search = GridSearchCV(\n",
    "        GaussianMixture(), param_grid=param_grid, scoring=gmm_bic_score\n",
    "    )\n",
    "    grid_search.fit(X)\n",
    "    print(f\"Selected params for clustering: {grid_search.best_params_}\")\n",
    "    return grid_search.best_estimator_.predict(X)"
   ]
  },
  {
   "cell_type": "code",
   "execution_count": 19,
   "metadata": {},
   "outputs": [],
   "source": [
    "def raptor(documents, summarization_chain, desired_embedding_size=128, max_clusters=30):\n",
    "    # Does one loop of raptor, returns a list of dic, listing global cluster, local cluster, summary, documents for summary\n",
    "    return_values = []\n",
    "    documents_array = np.array(documents)\n",
    "    # Get embeddings\n",
    "    embed = OllamaEmbeddings(\n",
    "        model=\"nomic-embed-text:v1.5\"\n",
    "    )\n",
    "    full_embeddings = np.array(embed.embed_documents(documents))\n",
    "    # This removes the need for UMAP\n",
    "    compressed_embeddings = full_embeddings[:, :desired_embedding_size]\n",
    "\n",
    "    # Get clusters\n",
    "    global_clusters = gmm_clustering(compressed_embeddings, max_clusters)\n",
    "    # Iterate over each global cluster\n",
    "    for global_cluster_index in set(global_clusters):\n",
    "        # Select all documents/embeddings of this global cluster\n",
    "        global_cluster_embeddings = compressed_embeddings[global_clusters==global_cluster_index]\n",
    "        global_cluster_documents = documents_array[global_clusters==global_cluster_index]\n",
    "        print(f\"Global cluster: {global_cluster_index}, has {len(global_cluster_documents)} documents.\")\n",
    "        # recluster into local cluster\n",
    "        local_clusters = gmm_clustering(global_cluster_embeddings, max_clusters)\n",
    "        for local_cluster_index in set(local_clusters):\n",
    "            # Select all documents of this local cluster\n",
    "            local_cluster_documents = global_cluster_documents[local_clusters==local_cluster_index]\n",
    "            print(f\"Global cluster: {global_cluster_index}, Local cluster: {local_cluster_index}, has {len(local_cluster_documents)} documents.\")\n",
    "            # Hit LLM for summarization\n",
    "            summarization = summarization_chain.invoke(local_cluster_documents)\n",
    "            return_values.append({\n",
    "                'global_cluster': global_cluster_index,\n",
    "                'local_cluster': local_cluster_index,\n",
    "                'summarization': summarization,\n",
    "                'clustered_documents': local_cluster_documents.tolist()\n",
    "            })\n",
    "    return return_values\n",
    "\n"
   ]
  },
  {
   "cell_type": "code",
   "execution_count": 20,
   "metadata": {},
   "outputs": [],
   "source": [
    "llm = ChatOllama(model=\"llama3.2:3b-instruct-q8_0\", temperature=0)\n",
    "\n",
    "summarization_prompt_template = \"\"\"Your job is to give a detailed summary of the following documents:\n",
    "\n",
    "Documents:\n",
    "{documents}\n",
    "\"\"\"\n",
    "\n",
    "summarization_prompt = ChatPromptTemplate.from_template(summarization_prompt_template)\n",
    "\n",
    "summarization_chain = (\n",
    "    RunnableLambda(lambda docs: '\\n---------new doc---------\\n'.join(docs))\n",
    "    | summarization_prompt\n",
    "    | llm\n",
    "    | StrOutputParser()\n",
    ")"
   ]
  },
  {
   "cell_type": "code",
   "execution_count": null,
   "metadata": {},
   "outputs": [],
   "source": [
    "leaf_1 = raptor(texts_split, summarization_chain)"
   ]
  },
  {
   "cell_type": "code",
   "execution_count": null,
   "metadata": {},
   "outputs": [],
   "source": []
  }
 ],
 "metadata": {
  "kernelspec": {
   "display_name": "rag",
   "language": "python",
   "name": "python3"
  },
  "language_info": {
   "codemirror_mode": {
    "name": "ipython",
    "version": 3
   },
   "file_extension": ".py",
   "mimetype": "text/x-python",
   "name": "python",
   "nbconvert_exporter": "python",
   "pygments_lexer": "ipython3",
   "version": "3.10.4"
  }
 },
 "nbformat": 4,
 "nbformat_minor": 2
}
